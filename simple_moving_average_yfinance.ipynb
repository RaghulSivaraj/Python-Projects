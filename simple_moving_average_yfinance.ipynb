{
  "nbformat": 4,
  "nbformat_minor": 0,
  "metadata": {
    "colab": {
      "name": "simple moving average yfinance.ipynb",
      "provenance": [],
      "collapsed_sections": [],
      "include_colab_link": true
    },
    "kernelspec": {
      "name": "python3",
      "display_name": "Python 3"
    }
  },
  "cells": [
    {
      "cell_type": "markdown",
      "metadata": {
        "id": "view-in-github",
        "colab_type": "text"
      },
      "source": [
        "<a href=\"https://colab.research.google.com/github/Rahul-designs/Python-Projects/blob/main/simple_moving_average_yfinance.ipynb\" target=\"_parent\"><img src=\"https://colab.research.google.com/assets/colab-badge.svg\" alt=\"Open In Colab\"/></a>"
      ]
    },
    {
      "cell_type": "code",
      "metadata": {
        "id": "0gAbt59auTD1",
        "colab": {
          "base_uri": "https://localhost:8080/"
        },
        "outputId": "1a93e273-82fd-409d-d057-a2375ef5f92e"
      },
      "source": [
        "pip install yfinance"
      ],
      "execution_count": null,
      "outputs": [
        {
          "output_type": "stream",
          "text": [
            "Collecting yfinance\n",
            "  Downloading https://files.pythonhosted.org/packages/a7/ee/315752b9ef281ba83c62aa7ec2e2074f85223da6e7e74efb4d3e11c0f510/yfinance-0.1.59.tar.gz\n",
            "Requirement already satisfied: pandas>=0.24 in /usr/local/lib/python3.7/dist-packages (from yfinance) (1.1.5)\n",
            "Requirement already satisfied: numpy>=1.15 in /usr/local/lib/python3.7/dist-packages (from yfinance) (1.19.5)\n",
            "Requirement already satisfied: requests>=2.20 in /usr/local/lib/python3.7/dist-packages (from yfinance) (2.23.0)\n",
            "Requirement already satisfied: multitasking>=0.0.7 in /usr/local/lib/python3.7/dist-packages (from yfinance) (0.0.9)\n",
            "Collecting lxml>=4.5.1\n",
            "\u001b[?25l  Downloading https://files.pythonhosted.org/packages/30/c0/d0526314971fc661b083ab135747dc68446a3022686da8c16d25fcf6ef07/lxml-4.6.3-cp37-cp37m-manylinux2014_x86_64.whl (6.3MB)\n",
            "\u001b[K     |████████████████████████████████| 6.3MB 15.5MB/s \n",
            "\u001b[?25hRequirement already satisfied: python-dateutil>=2.7.3 in /usr/local/lib/python3.7/dist-packages (from pandas>=0.24->yfinance) (2.8.1)\n",
            "Requirement already satisfied: pytz>=2017.2 in /usr/local/lib/python3.7/dist-packages (from pandas>=0.24->yfinance) (2018.9)\n",
            "Requirement already satisfied: chardet<4,>=3.0.2 in /usr/local/lib/python3.7/dist-packages (from requests>=2.20->yfinance) (3.0.4)\n",
            "Requirement already satisfied: idna<3,>=2.5 in /usr/local/lib/python3.7/dist-packages (from requests>=2.20->yfinance) (2.10)\n",
            "Requirement already satisfied: certifi>=2017.4.17 in /usr/local/lib/python3.7/dist-packages (from requests>=2.20->yfinance) (2020.12.5)\n",
            "Requirement already satisfied: urllib3!=1.25.0,!=1.25.1,<1.26,>=1.21.1 in /usr/local/lib/python3.7/dist-packages (from requests>=2.20->yfinance) (1.24.3)\n",
            "Requirement already satisfied: six>=1.5 in /usr/local/lib/python3.7/dist-packages (from python-dateutil>=2.7.3->pandas>=0.24->yfinance) (1.15.0)\n",
            "Building wheels for collected packages: yfinance\n",
            "  Building wheel for yfinance (setup.py) ... \u001b[?25l\u001b[?25hdone\n",
            "  Created wheel for yfinance: filename=yfinance-0.1.59-py2.py3-none-any.whl size=23442 sha256=c914ef9cd99e406e67e00c53a70bb5692a541cf3145761b9fb16896c8a4754fd\n",
            "  Stored in directory: /root/.cache/pip/wheels/f8/2a/0f/4b5a86e1d52e451757eb6bc17fd899629f0925c777741b6d04\n",
            "Successfully built yfinance\n",
            "Installing collected packages: lxml, yfinance\n",
            "  Found existing installation: lxml 4.2.6\n",
            "    Uninstalling lxml-4.2.6:\n",
            "      Successfully uninstalled lxml-4.2.6\n",
            "Successfully installed lxml-4.6.3 yfinance-0.1.59\n"
          ],
          "name": "stdout"
        }
      ]
    },
    {
      "cell_type": "code",
      "metadata": {
        "colab": {
          "base_uri": "https://localhost:8080/",
          "height": 242
        },
        "id": "EElAvxMf2hdM",
        "outputId": "beb95345-c034-40e4-a3ff-c6c7797c8f43"
      },
      "source": [
        "import yfinance as yf\n",
        "SPY = yf.download('SPY')\n",
        "SPY.head()"
      ],
      "execution_count": null,
      "outputs": [
        {
          "output_type": "stream",
          "text": [
            "\r[*********************100%***********************]  1 of 1 completed\n"
          ],
          "name": "stdout"
        },
        {
          "output_type": "execute_result",
          "data": {
            "text/html": [
              "<div>\n",
              "<style scoped>\n",
              "    .dataframe tbody tr th:only-of-type {\n",
              "        vertical-align: middle;\n",
              "    }\n",
              "\n",
              "    .dataframe tbody tr th {\n",
              "        vertical-align: top;\n",
              "    }\n",
              "\n",
              "    .dataframe thead th {\n",
              "        text-align: right;\n",
              "    }\n",
              "</style>\n",
              "<table border=\"1\" class=\"dataframe\">\n",
              "  <thead>\n",
              "    <tr style=\"text-align: right;\">\n",
              "      <th></th>\n",
              "      <th>Open</th>\n",
              "      <th>High</th>\n",
              "      <th>Low</th>\n",
              "      <th>Close</th>\n",
              "      <th>Adj Close</th>\n",
              "      <th>Volume</th>\n",
              "    </tr>\n",
              "    <tr>\n",
              "      <th>Date</th>\n",
              "      <th></th>\n",
              "      <th></th>\n",
              "      <th></th>\n",
              "      <th></th>\n",
              "      <th></th>\n",
              "      <th></th>\n",
              "    </tr>\n",
              "  </thead>\n",
              "  <tbody>\n",
              "    <tr>\n",
              "      <th>1993-01-29</th>\n",
              "      <td>43.96875</td>\n",
              "      <td>43.96875</td>\n",
              "      <td>43.75000</td>\n",
              "      <td>43.93750</td>\n",
              "      <td>25.884184</td>\n",
              "      <td>1003200</td>\n",
              "    </tr>\n",
              "    <tr>\n",
              "      <th>1993-02-01</th>\n",
              "      <td>43.96875</td>\n",
              "      <td>44.25000</td>\n",
              "      <td>43.96875</td>\n",
              "      <td>44.25000</td>\n",
              "      <td>26.068277</td>\n",
              "      <td>480500</td>\n",
              "    </tr>\n",
              "    <tr>\n",
              "      <th>1993-02-02</th>\n",
              "      <td>44.21875</td>\n",
              "      <td>44.37500</td>\n",
              "      <td>44.12500</td>\n",
              "      <td>44.34375</td>\n",
              "      <td>26.123499</td>\n",
              "      <td>201300</td>\n",
              "    </tr>\n",
              "    <tr>\n",
              "      <th>1993-02-03</th>\n",
              "      <td>44.40625</td>\n",
              "      <td>44.84375</td>\n",
              "      <td>44.37500</td>\n",
              "      <td>44.81250</td>\n",
              "      <td>26.399649</td>\n",
              "      <td>529400</td>\n",
              "    </tr>\n",
              "    <tr>\n",
              "      <th>1993-02-04</th>\n",
              "      <td>44.96875</td>\n",
              "      <td>45.09375</td>\n",
              "      <td>44.46875</td>\n",
              "      <td>45.00000</td>\n",
              "      <td>26.510111</td>\n",
              "      <td>531500</td>\n",
              "    </tr>\n",
              "  </tbody>\n",
              "</table>\n",
              "</div>"
            ],
            "text/plain": [
              "                Open      High       Low     Close  Adj Close   Volume\n",
              "Date                                                                  \n",
              "1993-01-29  43.96875  43.96875  43.75000  43.93750  25.884184  1003200\n",
              "1993-02-01  43.96875  44.25000  43.96875  44.25000  26.068277   480500\n",
              "1993-02-02  44.21875  44.37500  44.12500  44.34375  26.123499   201300\n",
              "1993-02-03  44.40625  44.84375  44.37500  44.81250  26.399649   529400\n",
              "1993-02-04  44.96875  45.09375  44.46875  45.00000  26.510111   531500"
            ]
          },
          "metadata": {
            "tags": []
          },
          "execution_count": 7
        }
      ]
    },
    {
      "cell_type": "code",
      "metadata": {
        "colab": {
          "base_uri": "https://localhost:8080/"
        },
        "id": "qOkUBSbv4HR1",
        "outputId": "bd9026af-e91d-448a-9319-eb178d9b74c6"
      },
      "source": [
        "SPY['Close']"
      ],
      "execution_count": null,
      "outputs": [
        {
          "output_type": "execute_result",
          "data": {
            "text/plain": [
              "Date\n",
              "1993-01-29     43.937500\n",
              "1993-02-01     44.250000\n",
              "1993-02-02     44.343750\n",
              "1993-02-03     44.812500\n",
              "1993-02-04     45.000000\n",
              "                 ...    \n",
              "2021-05-17    415.519989\n",
              "2021-05-18    411.940002\n",
              "2021-05-19    410.859985\n",
              "2021-05-20    415.279999\n",
              "2021-05-21    414.940002\n",
              "Name: Close, Length: 7130, dtype: float64"
            ]
          },
          "metadata": {
            "tags": []
          },
          "execution_count": 8
        }
      ]
    },
    {
      "cell_type": "code",
      "metadata": {
        "colab": {
          "base_uri": "https://localhost:8080/",
          "height": 225
        },
        "id": "qlCcZgjb4Oev",
        "outputId": "8a3873be-3105-42d2-9c83-5687e00f70e9"
      },
      "source": [
        "SPY = yf.Ticker('SPY')\n",
        "SPY_History = SPY.history(start=\"2020-01-01\", end=\"2020-02-01\")\n",
        "SPY_History.head()"
      ],
      "execution_count": null,
      "outputs": [
        {
          "output_type": "execute_result",
          "data": {
            "text/html": [
              "<div>\n",
              "<style scoped>\n",
              "    .dataframe tbody tr th:only-of-type {\n",
              "        vertical-align: middle;\n",
              "    }\n",
              "\n",
              "    .dataframe tbody tr th {\n",
              "        vertical-align: top;\n",
              "    }\n",
              "\n",
              "    .dataframe thead th {\n",
              "        text-align: right;\n",
              "    }\n",
              "</style>\n",
              "<table border=\"1\" class=\"dataframe\">\n",
              "  <thead>\n",
              "    <tr style=\"text-align: right;\">\n",
              "      <th></th>\n",
              "      <th>Open</th>\n",
              "      <th>High</th>\n",
              "      <th>Low</th>\n",
              "      <th>Close</th>\n",
              "      <th>Volume</th>\n",
              "      <th>Dividends</th>\n",
              "      <th>Stock Splits</th>\n",
              "    </tr>\n",
              "    <tr>\n",
              "      <th>Date</th>\n",
              "      <th></th>\n",
              "      <th></th>\n",
              "      <th></th>\n",
              "      <th></th>\n",
              "      <th></th>\n",
              "      <th></th>\n",
              "      <th></th>\n",
              "    </tr>\n",
              "  </thead>\n",
              "  <tbody>\n",
              "    <tr>\n",
              "      <th>2020-01-02</th>\n",
              "      <td>316.571857</td>\n",
              "      <td>317.892788</td>\n",
              "      <td>315.583600</td>\n",
              "      <td>317.873199</td>\n",
              "      <td>59151200</td>\n",
              "      <td>0</td>\n",
              "      <td>0</td>\n",
              "    </tr>\n",
              "    <tr>\n",
              "      <th>2020-01-03</th>\n",
              "      <td>314.243138</td>\n",
              "      <td>316.669737</td>\n",
              "      <td>314.184433</td>\n",
              "      <td>315.466217</td>\n",
              "      <td>77709700</td>\n",
              "      <td>0</td>\n",
              "      <td>0</td>\n",
              "    </tr>\n",
              "    <tr>\n",
              "      <th>2020-01-06</th>\n",
              "      <td>313.587557</td>\n",
              "      <td>316.757797</td>\n",
              "      <td>313.460352</td>\n",
              "      <td>316.669739</td>\n",
              "      <td>55653900</td>\n",
              "      <td>0</td>\n",
              "      <td>0</td>\n",
              "    </tr>\n",
              "    <tr>\n",
              "      <th>2020-01-07</th>\n",
              "      <td>316.063060</td>\n",
              "      <td>316.571880</td>\n",
              "      <td>315.299860</td>\n",
              "      <td>315.779327</td>\n",
              "      <td>40496400</td>\n",
              "      <td>0</td>\n",
              "      <td>0</td>\n",
              "    </tr>\n",
              "    <tr>\n",
              "      <th>2020-01-08</th>\n",
              "      <td>315.984822</td>\n",
              "      <td>318.763653</td>\n",
              "      <td>315.720648</td>\n",
              "      <td>317.462311</td>\n",
              "      <td>68296000</td>\n",
              "      <td>0</td>\n",
              "      <td>0</td>\n",
              "    </tr>\n",
              "  </tbody>\n",
              "</table>\n",
              "</div>"
            ],
            "text/plain": [
              "                  Open        High  ...  Dividends  Stock Splits\n",
              "Date                                ...                         \n",
              "2020-01-02  316.571857  317.892788  ...          0             0\n",
              "2020-01-03  314.243138  316.669737  ...          0             0\n",
              "2020-01-06  313.587557  316.757797  ...          0             0\n",
              "2020-01-07  316.063060  316.571880  ...          0             0\n",
              "2020-01-08  315.984822  318.763653  ...          0             0\n",
              "\n",
              "[5 rows x 7 columns]"
            ]
          },
          "metadata": {
            "tags": []
          },
          "execution_count": 9
        }
      ]
    },
    {
      "cell_type": "code",
      "metadata": {
        "colab": {
          "base_uri": "https://localhost:8080/"
        },
        "id": "jSBdyhzs4hYc",
        "outputId": "f436baa4-e742-425e-8cf6-b915b513b7ca"
      },
      "source": [
        "SPY.info"
      ],
      "execution_count": null,
      "outputs": [
        {
          "output_type": "execute_result",
          "data": {
            "text/plain": [
              "{'52WeekChange': None,\n",
              " 'SandP52WeekChange': None,\n",
              " 'algorithm': None,\n",
              " 'annualHoldingsTurnover': None,\n",
              " 'annualReportExpenseRatio': None,\n",
              " 'ask': 415.45,\n",
              " 'askSize': 2200,\n",
              " 'averageDailyVolume10Day': 82066414,\n",
              " 'averageVolume': 88929077,\n",
              " 'averageVolume10days': 82066414,\n",
              " 'beta': None,\n",
              " 'beta3Year': 1,\n",
              " 'bid': 415.41,\n",
              " 'bidSize': 1200,\n",
              " 'bookValue': None,\n",
              " 'category': 'Large Blend',\n",
              " 'circulatingSupply': None,\n",
              " 'companyOfficers': [],\n",
              " 'currency': 'USD',\n",
              " 'dayHigh': 418.2,\n",
              " 'dayLow': 414.45,\n",
              " 'dividendRate': None,\n",
              " 'dividendYield': None,\n",
              " 'earningsQuarterlyGrowth': None,\n",
              " 'enterpriseToEbitda': None,\n",
              " 'enterpriseToRevenue': None,\n",
              " 'enterpriseValue': None,\n",
              " 'exDividendDate': None,\n",
              " 'exchange': 'PCX',\n",
              " 'exchangeTimezoneName': 'America/New_York',\n",
              " 'exchangeTimezoneShortName': 'EDT',\n",
              " 'expireDate': None,\n",
              " 'fiftyDayAverage': 414.12085,\n",
              " 'fiftyTwoWeekHigh': 422.82,\n",
              " 'fiftyTwoWeekLow': 295.46,\n",
              " 'fiveYearAverageReturn': 0.1727,\n",
              " 'fiveYearAvgDividendYield': None,\n",
              " 'forwardEps': None,\n",
              " 'forwardPE': None,\n",
              " 'fromCurrency': None,\n",
              " 'fundFamily': 'SPDR State Street Global Advisors',\n",
              " 'fundInceptionDate': 727660800,\n",
              " 'gmtOffSetMilliseconds': '-14400000',\n",
              " 'isEsgPopulated': False,\n",
              " 'lastCapGain': None,\n",
              " 'lastDividendDate': None,\n",
              " 'lastDividendValue': None,\n",
              " 'lastFiscalYearEnd': None,\n",
              " 'lastMarket': None,\n",
              " 'lastSplitDate': None,\n",
              " 'lastSplitFactor': None,\n",
              " 'legalType': 'Exchange Traded Fund',\n",
              " 'logo_url': '',\n",
              " 'longBusinessSummary': 'The investment seeks to provide investment results that, before expenses, correspond generally to the price and yield performance of the S&P 500Â® Index.\\n The Trust seeks to achieve its investment objective by holding a portfolio of the common stocks that are included in the index (the â\\x80\\x9cPortfolioâ\\x80\\x9d), with the weight of each stock in the Portfolio substantially corresponding to the weight of such stock in the index.',\n",
              " 'longName': 'SPDR S&P 500 ETF Trust',\n",
              " 'market': 'us_market',\n",
              " 'marketCap': None,\n",
              " 'maxAge': 1,\n",
              " 'maxSupply': None,\n",
              " 'messageBoardId': 'finmb_6160262',\n",
              " 'morningStarOverallRating': None,\n",
              " 'morningStarRiskRating': None,\n",
              " 'mostRecentQuarter': None,\n",
              " 'navPrice': 414.9,\n",
              " 'netIncomeToCommon': None,\n",
              " 'nextFiscalYearEnd': None,\n",
              " 'open': 416.87,\n",
              " 'openInterest': None,\n",
              " 'payoutRatio': None,\n",
              " 'pegRatio': None,\n",
              " 'phone': '866-732-8673',\n",
              " 'previousClose': 415.28,\n",
              " 'priceHint': 2,\n",
              " 'priceToBook': None,\n",
              " 'priceToSalesTrailing12Months': None,\n",
              " 'profitMargins': None,\n",
              " 'quoteType': 'ETF',\n",
              " 'regularMarketDayHigh': 418.2,\n",
              " 'regularMarketDayLow': 414.45,\n",
              " 'regularMarketOpen': 416.87,\n",
              " 'regularMarketPreviousClose': 415.28,\n",
              " 'regularMarketPrice': 414.94,\n",
              " 'regularMarketVolume': 76578662,\n",
              " 'revenueQuarterlyGrowth': None,\n",
              " 'shortName': 'SPDR S&P 500',\n",
              " 'startDate': None,\n",
              " 'strikePrice': None,\n",
              " 'symbol': 'SPY',\n",
              " 'threeYearAverageReturn': 0.1703,\n",
              " 'toCurrency': None,\n",
              " 'totalAssets': 363964497920,\n",
              " 'tradeable': False,\n",
              " 'trailingAnnualDividendRate': None,\n",
              " 'trailingAnnualDividendYield': None,\n",
              " 'trailingEps': None,\n",
              " 'twoHundredDayAverage': 386.5449,\n",
              " 'volume': 76578662,\n",
              " 'volume24Hr': None,\n",
              " 'volumeAllCurrencies': None,\n",
              " 'yield': 0.013300001,\n",
              " 'ytdReturn': None}"
            ]
          },
          "metadata": {
            "tags": []
          },
          "execution_count": 10
        }
      ]
    },
    {
      "cell_type": "code",
      "metadata": {
        "colab": {
          "base_uri": "https://localhost:8080/"
        },
        "id": "qGU4upBU454z",
        "outputId": "dbd75de1-eeab-481d-d7ad-e7bc42b2db80"
      },
      "source": [
        "SPY.info['fiftyDayAverage']"
      ],
      "execution_count": null,
      "outputs": [
        {
          "output_type": "execute_result",
          "data": {
            "text/plain": [
              "414.12085"
            ]
          },
          "metadata": {
            "tags": []
          },
          "execution_count": 11
        }
      ]
    },
    {
      "cell_type": "code",
      "metadata": {
        "colab": {
          "base_uri": "https://localhost:8080/",
          "height": 271
        },
        "id": "cV06l23j4_Un",
        "outputId": "01fdc521-e748-45c6-9423-a9395c512ca3"
      },
      "source": [
        "data = yf.download('SPY AAPL')\n",
        "data.tail()"
      ],
      "execution_count": null,
      "outputs": [
        {
          "output_type": "stream",
          "text": [
            "[*********************100%***********************]  2 of 2 completed\n"
          ],
          "name": "stdout"
        },
        {
          "output_type": "execute_result",
          "data": {
            "text/html": [
              "<div>\n",
              "<style scoped>\n",
              "    .dataframe tbody tr th:only-of-type {\n",
              "        vertical-align: middle;\n",
              "    }\n",
              "\n",
              "    .dataframe tbody tr th {\n",
              "        vertical-align: top;\n",
              "    }\n",
              "\n",
              "    .dataframe thead tr th {\n",
              "        text-align: left;\n",
              "    }\n",
              "\n",
              "    .dataframe thead tr:last-of-type th {\n",
              "        text-align: right;\n",
              "    }\n",
              "</style>\n",
              "<table border=\"1\" class=\"dataframe\">\n",
              "  <thead>\n",
              "    <tr>\n",
              "      <th></th>\n",
              "      <th colspan=\"2\" halign=\"left\">Adj Close</th>\n",
              "      <th colspan=\"2\" halign=\"left\">Close</th>\n",
              "      <th colspan=\"2\" halign=\"left\">High</th>\n",
              "      <th colspan=\"2\" halign=\"left\">Low</th>\n",
              "      <th colspan=\"2\" halign=\"left\">Open</th>\n",
              "      <th colspan=\"2\" halign=\"left\">Volume</th>\n",
              "    </tr>\n",
              "    <tr>\n",
              "      <th></th>\n",
              "      <th>AAPL</th>\n",
              "      <th>SPY</th>\n",
              "      <th>AAPL</th>\n",
              "      <th>SPY</th>\n",
              "      <th>AAPL</th>\n",
              "      <th>SPY</th>\n",
              "      <th>AAPL</th>\n",
              "      <th>SPY</th>\n",
              "      <th>AAPL</th>\n",
              "      <th>SPY</th>\n",
              "      <th>AAPL</th>\n",
              "      <th>SPY</th>\n",
              "    </tr>\n",
              "    <tr>\n",
              "      <th>Date</th>\n",
              "      <th></th>\n",
              "      <th></th>\n",
              "      <th></th>\n",
              "      <th></th>\n",
              "      <th></th>\n",
              "      <th></th>\n",
              "      <th></th>\n",
              "      <th></th>\n",
              "      <th></th>\n",
              "      <th></th>\n",
              "      <th></th>\n",
              "      <th></th>\n",
              "    </tr>\n",
              "  </thead>\n",
              "  <tbody>\n",
              "    <tr>\n",
              "      <th>2021-05-17</th>\n",
              "      <td>126.269997</td>\n",
              "      <td>415.519989</td>\n",
              "      <td>126.269997</td>\n",
              "      <td>415.519989</td>\n",
              "      <td>126.930000</td>\n",
              "      <td>416.390015</td>\n",
              "      <td>125.169998</td>\n",
              "      <td>413.359985</td>\n",
              "      <td>126.820000</td>\n",
              "      <td>415.390015</td>\n",
              "      <td>74244600</td>\n",
              "      <td>65129200.0</td>\n",
              "    </tr>\n",
              "    <tr>\n",
              "      <th>2021-05-18</th>\n",
              "      <td>124.849998</td>\n",
              "      <td>411.940002</td>\n",
              "      <td>124.849998</td>\n",
              "      <td>411.940002</td>\n",
              "      <td>126.989998</td>\n",
              "      <td>416.059998</td>\n",
              "      <td>124.779999</td>\n",
              "      <td>411.769989</td>\n",
              "      <td>126.559998</td>\n",
              "      <td>415.799988</td>\n",
              "      <td>63342900</td>\n",
              "      <td>59810200.0</td>\n",
              "    </tr>\n",
              "    <tr>\n",
              "      <th>2021-05-19</th>\n",
              "      <td>124.690002</td>\n",
              "      <td>410.859985</td>\n",
              "      <td>124.690002</td>\n",
              "      <td>410.859985</td>\n",
              "      <td>124.919998</td>\n",
              "      <td>411.049988</td>\n",
              "      <td>122.860001</td>\n",
              "      <td>405.329987</td>\n",
              "      <td>123.160004</td>\n",
              "      <td>406.920013</td>\n",
              "      <td>92612000</td>\n",
              "      <td>106467100.0</td>\n",
              "    </tr>\n",
              "    <tr>\n",
              "      <th>2021-05-20</th>\n",
              "      <td>127.309998</td>\n",
              "      <td>415.279999</td>\n",
              "      <td>127.309998</td>\n",
              "      <td>415.279999</td>\n",
              "      <td>127.720001</td>\n",
              "      <td>416.630005</td>\n",
              "      <td>125.099998</td>\n",
              "      <td>411.670013</td>\n",
              "      <td>125.230003</td>\n",
              "      <td>411.799988</td>\n",
              "      <td>76857100</td>\n",
              "      <td>78022200.0</td>\n",
              "    </tr>\n",
              "    <tr>\n",
              "      <th>2021-05-21</th>\n",
              "      <td>125.430000</td>\n",
              "      <td>414.940002</td>\n",
              "      <td>125.430000</td>\n",
              "      <td>414.940002</td>\n",
              "      <td>128.000000</td>\n",
              "      <td>418.200012</td>\n",
              "      <td>125.209999</td>\n",
              "      <td>414.450012</td>\n",
              "      <td>127.820000</td>\n",
              "      <td>416.869995</td>\n",
              "      <td>79209300</td>\n",
              "      <td>76519100.0</td>\n",
              "    </tr>\n",
              "  </tbody>\n",
              "</table>\n",
              "</div>"
            ],
            "text/plain": [
              "             Adj Close              ...    Volume             \n",
              "                  AAPL         SPY  ...      AAPL          SPY\n",
              "Date                                ...                       \n",
              "2021-05-17  126.269997  415.519989  ...  74244600   65129200.0\n",
              "2021-05-18  124.849998  411.940002  ...  63342900   59810200.0\n",
              "2021-05-19  124.690002  410.859985  ...  92612000  106467100.0\n",
              "2021-05-20  127.309998  415.279999  ...  76857100   78022200.0\n",
              "2021-05-21  125.430000  414.940002  ...  79209300   76519100.0\n",
              "\n",
              "[5 rows x 12 columns]"
            ]
          },
          "metadata": {
            "tags": []
          },
          "execution_count": 12
        }
      ]
    },
    {
      "cell_type": "code",
      "metadata": {
        "colab": {
          "base_uri": "https://localhost:8080/",
          "height": 335
        },
        "id": "4ixMr91s5D7-",
        "outputId": "fe3ae24f-7653-4cd7-f0f8-c6b6454536a9"
      },
      "source": [
        "import matplotlib.pyplot as plt\n",
        "data['Close'].plot(figsize=(10, 5))"
      ],
      "execution_count": null,
      "outputs": [
        {
          "output_type": "execute_result",
          "data": {
            "text/plain": [
              "<matplotlib.axes._subplots.AxesSubplot at 0x7f6549a3f350>"
            ]
          },
          "metadata": {
            "tags": []
          },
          "execution_count": 13
        },
        {
          "output_type": "display_data",
          "data": {
            "image/png": "[encoded data removed]",
            "text/plain": [
              "<Figure size 720x360 with 1 Axes>"
            ]
          },
          "metadata": {
            "tags": [],
            "needs_background": "light"
          }
        }
      ]
    },
    {
      "cell_type": "code",
      "metadata": {
        "colab": {
          "base_uri": "https://localhost:8080/",
          "height": 242
        },
        "id": "-6ZQBnZUHuc6",
        "outputId": "156a89ec-802c-4f84-f5eb-d75a862ff9c6"
      },
      "source": [
        "import yfinance as yf\n",
        "import pandas as pd\n",
        "import numpy as np\n",
        "import matplotlib.pyplot as plt\n",
        "#download is for downloading historical data\n",
        "spy_ticker = yf.Ticker('SPY')\n",
        "spy = yf.download('SPY')\n",
        "spy.head()"
      ],
      "execution_count": null,
      "outputs": [
        {
          "output_type": "stream",
          "text": [
            "\r[*********************100%***********************]  1 of 1 completed\n"
          ],
          "name": "stdout"
        },
        {
          "output_type": "execute_result",
          "data": {
            "text/html": [
              "<div>\n",
              "<style scoped>\n",
              "    .dataframe tbody tr th:only-of-type {\n",
              "        vertical-align: middle;\n",
              "    }\n",
              "\n",
              "    .dataframe tbody tr th {\n",
              "        vertical-align: top;\n",
              "    }\n",
              "\n",
              "    .dataframe thead th {\n",
              "        text-align: right;\n",
              "    }\n",
              "</style>\n",
              "<table border=\"1\" class=\"dataframe\">\n",
              "  <thead>\n",
              "    <tr style=\"text-align: right;\">\n",
              "      <th></th>\n",
              "      <th>Open</th>\n",
              "      <th>High</th>\n",
              "      <th>Low</th>\n",
              "      <th>Close</th>\n",
              "      <th>Adj Close</th>\n",
              "      <th>Volume</th>\n",
              "    </tr>\n",
              "    <tr>\n",
              "      <th>Date</th>\n",
              "      <th></th>\n",
              "      <th></th>\n",
              "      <th></th>\n",
              "      <th></th>\n",
              "      <th></th>\n",
              "      <th></th>\n",
              "    </tr>\n",
              "  </thead>\n",
              "  <tbody>\n",
              "    <tr>\n",
              "      <th>1993-01-29</th>\n",
              "      <td>43.96875</td>\n",
              "      <td>43.96875</td>\n",
              "      <td>43.75000</td>\n",
              "      <td>43.93750</td>\n",
              "      <td>25.884184</td>\n",
              "      <td>1003200</td>\n",
              "    </tr>\n",
              "    <tr>\n",
              "      <th>1993-02-01</th>\n",
              "      <td>43.96875</td>\n",
              "      <td>44.25000</td>\n",
              "      <td>43.96875</td>\n",
              "      <td>44.25000</td>\n",
              "      <td>26.068277</td>\n",
              "      <td>480500</td>\n",
              "    </tr>\n",
              "    <tr>\n",
              "      <th>1993-02-02</th>\n",
              "      <td>44.21875</td>\n",
              "      <td>44.37500</td>\n",
              "      <td>44.12500</td>\n",
              "      <td>44.34375</td>\n",
              "      <td>26.123499</td>\n",
              "      <td>201300</td>\n",
              "    </tr>\n",
              "    <tr>\n",
              "      <th>1993-02-03</th>\n",
              "      <td>44.40625</td>\n",
              "      <td>44.84375</td>\n",
              "      <td>44.37500</td>\n",
              "      <td>44.81250</td>\n",
              "      <td>26.399649</td>\n",
              "      <td>529400</td>\n",
              "    </tr>\n",
              "    <tr>\n",
              "      <th>1993-02-04</th>\n",
              "      <td>44.96875</td>\n",
              "      <td>45.09375</td>\n",
              "      <td>44.46875</td>\n",
              "      <td>45.00000</td>\n",
              "      <td>26.510111</td>\n",
              "      <td>531500</td>\n",
              "    </tr>\n",
              "  </tbody>\n",
              "</table>\n",
              "</div>"
            ],
            "text/plain": [
              "                Open      High       Low     Close  Adj Close   Volume\n",
              "Date                                                                  \n",
              "1993-01-29  43.96875  43.96875  43.75000  43.93750  25.884184  1003200\n",
              "1993-02-01  43.96875  44.25000  43.96875  44.25000  26.068277   480500\n",
              "1993-02-02  44.21875  44.37500  44.12500  44.34375  26.123499   201300\n",
              "1993-02-03  44.40625  44.84375  44.37500  44.81250  26.399649   529400\n",
              "1993-02-04  44.96875  45.09375  44.46875  45.00000  26.510111   531500"
            ]
          },
          "metadata": {
            "tags": []
          },
          "execution_count": 15
        }
      ]
    },
    {
      "cell_type": "code",
      "metadata": {
        "colab": {
          "base_uri": "https://localhost:8080/",
          "height": 355
        },
        "id": "DCH25V9-IJ9r",
        "outputId": "287326f9-2b25-443e-b698-28b2fc2adfac"
      },
      "source": [
        "fig, ax = plt.subplots(nrows=1, ncols=2, sharex=True, figsize=(15,5))\n",
        "ax[0].set_title('SPY Close', fontsize=15)\n",
        "ax[0].plot(spy['Close'])\n",
        "ax[1].set_title('SPY Volume', fontsize=15)\n",
        "ax[1].plot(spy['Volume'])"
      ],
      "execution_count": null,
      "outputs": [
        {
          "output_type": "execute_result",
          "data": {
            "text/plain": [
              "[<matplotlib.lines.Line2D at 0x7f6548a0ff90>]"
            ]
          },
          "metadata": {
            "tags": []
          },
          "execution_count": 16
        },
        {
          "output_type": "display_data",
          "data": {
            "image/png": "[encoded data removed]",
            "text/plain": [
              "<Figure size 1080x360 with 2 Axes>"
            ]
          },
          "metadata": {
            "tags": [],
            "needs_background": "light"
          }
        }
      ]
    },
    {
      "cell_type": "code",
      "metadata": {
        "id": "1fCHAUpjJA2M"
      },
      "source": [
        "SMA10 = spy['Close'].rolling(window = 10).mean()\n",
        "SMA20 = spy['Close'].rolling(window = 20).mean()\n",
        "SMA50 = spy['Close'].rolling(window = 50).mean()\n",
        "SMA100 = spy['Close'].rolling(window = 100).mean()"
      ],
      "execution_count": null,
      "outputs": []
    },
    {
      "cell_type": "code",
      "metadata": {
        "colab": {
          "base_uri": "https://localhost:8080/",
          "height": 391
        },
        "id": "aNC_yjXbJK3o",
        "outputId": "4969aa46-db24-401c-fa0a-b1eed32d1ae4"
      },
      "source": [
        "# taking last 252 trading days\n",
        "plt.figure(figsize=(15, 6))\n",
        "plt.plot(spy['Close'][-252:], label='SPY')\n",
        "plt.plot(SMA10[-252:], label='SMA10')\n",
        "plt.plot(SMA20[-252:], label='SMA20')\n",
        "plt.plot(SMA50[-252:], label='SMA50')\n",
        "plt.plot(SMA100[-252:], label='SMA100')\n",
        "plt.legend(loc='upper left', fontsize=15)"
      ],
      "execution_count": null,
      "outputs": [
        {
          "output_type": "execute_result",
          "data": {
            "text/plain": [
              "<matplotlib.legend.Legend at 0x7f6547eeda10>"
            ]
          },
          "metadata": {
            "tags": []
          },
          "execution_count": 22
        },
        {
          "output_type": "display_data",
          "data": {
            "image/png": "[encoded data removed]",
            "text/plain": [
              "<Figure size 1080x432 with 1 Axes>"
            ]
          },
          "metadata": {
            "tags": [],
            "needs_background": "light"
          }
        }
      ]
    }
  ]
}